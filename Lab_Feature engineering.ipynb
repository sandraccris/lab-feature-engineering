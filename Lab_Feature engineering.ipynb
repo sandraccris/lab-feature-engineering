{
 "cells": [
  {
   "cell_type": "code",
   "execution_count": 1,
   "id": "0a1b2ceb",
   "metadata": {},
   "outputs": [],
   "source": [
    "import pandas as pd\n",
    "import numpy as np\n",
    "import scipy as stats\n",
    "\n",
    "import matplotlib.pyplot as plt\n",
    "%matplotlib inline\n",
    "import seaborn as sns\n",
    "import plotly.express as px\n",
    "import datetime \n",
    "\n",
    "import warnings\n",
    "warnings.filterwarnings('ignore')"
   ]
  },
  {
   "cell_type": "code",
   "execution_count": 2,
   "id": "f7b5f025",
   "metadata": {
    "scrolled": false
   },
   "outputs": [
    {
     "data": {
      "text/html": [
       "<div>\n",
       "<style scoped>\n",
       "    .dataframe tbody tr th:only-of-type {\n",
       "        vertical-align: middle;\n",
       "    }\n",
       "\n",
       "    .dataframe tbody tr th {\n",
       "        vertical-align: top;\n",
       "    }\n",
       "\n",
       "    .dataframe thead th {\n",
       "        text-align: right;\n",
       "    }\n",
       "</style>\n",
       "<table border=\"1\" class=\"dataframe\">\n",
       "  <thead>\n",
       "    <tr style=\"text-align: right;\">\n",
       "      <th></th>\n",
       "      <th>ODATEDW</th>\n",
       "      <th>OSOURCE</th>\n",
       "      <th>TCODE</th>\n",
       "      <th>STATE</th>\n",
       "      <th>ZIP</th>\n",
       "      <th>MAILCODE</th>\n",
       "      <th>PVASTATE</th>\n",
       "      <th>DOB</th>\n",
       "      <th>NOEXCH</th>\n",
       "      <th>RECINHSE</th>\n",
       "      <th>...</th>\n",
       "      <th>TARGET_D</th>\n",
       "      <th>HPHONE_D</th>\n",
       "      <th>RFA_2R</th>\n",
       "      <th>RFA_2F</th>\n",
       "      <th>RFA_2A</th>\n",
       "      <th>MDMAUD_R</th>\n",
       "      <th>MDMAUD_F</th>\n",
       "      <th>MDMAUD_A</th>\n",
       "      <th>CLUSTER2</th>\n",
       "      <th>GEOCODE2</th>\n",
       "    </tr>\n",
       "  </thead>\n",
       "  <tbody>\n",
       "    <tr>\n",
       "      <th>0</th>\n",
       "      <td>8901</td>\n",
       "      <td>GRI</td>\n",
       "      <td>0</td>\n",
       "      <td>IL</td>\n",
       "      <td>61081</td>\n",
       "      <td></td>\n",
       "      <td></td>\n",
       "      <td>3712</td>\n",
       "      <td>0</td>\n",
       "      <td></td>\n",
       "      <td>...</td>\n",
       "      <td>0.0</td>\n",
       "      <td>0</td>\n",
       "      <td>L</td>\n",
       "      <td>4</td>\n",
       "      <td>E</td>\n",
       "      <td>X</td>\n",
       "      <td>X</td>\n",
       "      <td>X</td>\n",
       "      <td>39.0</td>\n",
       "      <td>C</td>\n",
       "    </tr>\n",
       "    <tr>\n",
       "      <th>1</th>\n",
       "      <td>9401</td>\n",
       "      <td>BOA</td>\n",
       "      <td>1</td>\n",
       "      <td>CA</td>\n",
       "      <td>91326</td>\n",
       "      <td></td>\n",
       "      <td></td>\n",
       "      <td>5202</td>\n",
       "      <td>0</td>\n",
       "      <td></td>\n",
       "      <td>...</td>\n",
       "      <td>0.0</td>\n",
       "      <td>0</td>\n",
       "      <td>L</td>\n",
       "      <td>2</td>\n",
       "      <td>G</td>\n",
       "      <td>X</td>\n",
       "      <td>X</td>\n",
       "      <td>X</td>\n",
       "      <td>1.0</td>\n",
       "      <td>A</td>\n",
       "    </tr>\n",
       "    <tr>\n",
       "      <th>2</th>\n",
       "      <td>9001</td>\n",
       "      <td>AMH</td>\n",
       "      <td>1</td>\n",
       "      <td>NC</td>\n",
       "      <td>27017</td>\n",
       "      <td></td>\n",
       "      <td></td>\n",
       "      <td>0</td>\n",
       "      <td>0</td>\n",
       "      <td></td>\n",
       "      <td>...</td>\n",
       "      <td>0.0</td>\n",
       "      <td>1</td>\n",
       "      <td>L</td>\n",
       "      <td>4</td>\n",
       "      <td>E</td>\n",
       "      <td>X</td>\n",
       "      <td>X</td>\n",
       "      <td>X</td>\n",
       "      <td>60.0</td>\n",
       "      <td>C</td>\n",
       "    </tr>\n",
       "    <tr>\n",
       "      <th>3</th>\n",
       "      <td>8701</td>\n",
       "      <td>BRY</td>\n",
       "      <td>0</td>\n",
       "      <td>CA</td>\n",
       "      <td>95953</td>\n",
       "      <td></td>\n",
       "      <td></td>\n",
       "      <td>2801</td>\n",
       "      <td>0</td>\n",
       "      <td></td>\n",
       "      <td>...</td>\n",
       "      <td>0.0</td>\n",
       "      <td>1</td>\n",
       "      <td>L</td>\n",
       "      <td>4</td>\n",
       "      <td>E</td>\n",
       "      <td>X</td>\n",
       "      <td>X</td>\n",
       "      <td>X</td>\n",
       "      <td>41.0</td>\n",
       "      <td>C</td>\n",
       "    </tr>\n",
       "    <tr>\n",
       "      <th>4</th>\n",
       "      <td>8601</td>\n",
       "      <td></td>\n",
       "      <td>0</td>\n",
       "      <td>FL</td>\n",
       "      <td>33176</td>\n",
       "      <td></td>\n",
       "      <td></td>\n",
       "      <td>2001</td>\n",
       "      <td>0</td>\n",
       "      <td>X</td>\n",
       "      <td>...</td>\n",
       "      <td>0.0</td>\n",
       "      <td>1</td>\n",
       "      <td>L</td>\n",
       "      <td>2</td>\n",
       "      <td>F</td>\n",
       "      <td>X</td>\n",
       "      <td>X</td>\n",
       "      <td>X</td>\n",
       "      <td>26.0</td>\n",
       "      <td>A</td>\n",
       "    </tr>\n",
       "  </tbody>\n",
       "</table>\n",
       "<p>5 rows × 481 columns</p>\n",
       "</div>"
      ],
      "text/plain": [
       "   ODATEDW OSOURCE  TCODE STATE    ZIP MAILCODE PVASTATE   DOB NOEXCH  \\\n",
       "0     8901     GRI      0    IL  61081                    3712      0   \n",
       "1     9401     BOA      1    CA  91326                    5202      0   \n",
       "2     9001     AMH      1    NC  27017                       0      0   \n",
       "3     8701     BRY      0    CA  95953                    2801      0   \n",
       "4     8601              0    FL  33176                    2001      0   \n",
       "\n",
       "  RECINHSE  ... TARGET_D HPHONE_D RFA_2R RFA_2F RFA_2A MDMAUD_R  MDMAUD_F  \\\n",
       "0           ...      0.0        0      L      4      E        X         X   \n",
       "1           ...      0.0        0      L      2      G        X         X   \n",
       "2           ...      0.0        1      L      4      E        X         X   \n",
       "3           ...      0.0        1      L      4      E        X         X   \n",
       "4        X  ...      0.0        1      L      2      F        X         X   \n",
       "\n",
       "  MDMAUD_A CLUSTER2 GEOCODE2  \n",
       "0        X     39.0        C  \n",
       "1        X      1.0        A  \n",
       "2        X     60.0        C  \n",
       "3        X     41.0        C  \n",
       "4        X     26.0        A  \n",
       "\n",
       "[5 rows x 481 columns]"
      ]
     },
     "execution_count": 2,
     "metadata": {},
     "output_type": "execute_result"
    }
   ],
   "source": [
    "data = pd.read_csv(\"learningSet.csv\")\n",
    "data.head()"
   ]
  },
  {
   "cell_type": "code",
   "execution_count": 3,
   "id": "036f187c",
   "metadata": {},
   "outputs": [
    {
     "name": "stdout",
     "output_type": "stream",
     "text": [
      "<class 'pandas.core.frame.DataFrame'>\n",
      "RangeIndex: 95412 entries, 0 to 95411\n",
      "Columns: 481 entries, ODATEDW to GEOCODE2\n",
      "dtypes: float64(97), int64(310), object(74)\n",
      "memory usage: 350.1+ MB\n"
     ]
    }
   ],
   "source": [
    "data.info()"
   ]
  },
  {
   "cell_type": "code",
   "execution_count": 4,
   "id": "84637424",
   "metadata": {},
   "outputs": [
    {
     "data": {
      "text/plain": [
       "(95412, 481)"
      ]
     },
     "execution_count": 4,
     "metadata": {},
     "output_type": "execute_result"
    }
   ],
   "source": [
    "data.shape"
   ]
  },
  {
   "cell_type": "markdown",
   "id": "f07011ed",
   "metadata": {},
   "source": [
    "#### 1. Check for null values in the numerical columns."
   ]
  },
  {
   "cell_type": "code",
   "execution_count": 5,
   "id": "ea5c11d1",
   "metadata": {},
   "outputs": [
    {
     "data": {
      "text/html": [
       "<div>\n",
       "<style scoped>\n",
       "    .dataframe tbody tr th:only-of-type {\n",
       "        vertical-align: middle;\n",
       "    }\n",
       "\n",
       "    .dataframe tbody tr th {\n",
       "        vertical-align: top;\n",
       "    }\n",
       "\n",
       "    .dataframe thead th {\n",
       "        text-align: right;\n",
       "    }\n",
       "</style>\n",
       "<table border=\"1\" class=\"dataframe\">\n",
       "  <thead>\n",
       "    <tr style=\"text-align: right;\">\n",
       "      <th></th>\n",
       "      <th>ODATEDW</th>\n",
       "      <th>TCODE</th>\n",
       "      <th>DOB</th>\n",
       "      <th>AGE</th>\n",
       "      <th>NUMCHLD</th>\n",
       "      <th>INCOME</th>\n",
       "      <th>WEALTH1</th>\n",
       "      <th>HIT</th>\n",
       "      <th>MBCRAFT</th>\n",
       "      <th>MBGARDEN</th>\n",
       "      <th>...</th>\n",
       "      <th>FISTDATE</th>\n",
       "      <th>NEXTDATE</th>\n",
       "      <th>TIMELAG</th>\n",
       "      <th>AVGGIFT</th>\n",
       "      <th>CONTROLN</th>\n",
       "      <th>TARGET_B</th>\n",
       "      <th>TARGET_D</th>\n",
       "      <th>HPHONE_D</th>\n",
       "      <th>RFA_2F</th>\n",
       "      <th>CLUSTER2</th>\n",
       "    </tr>\n",
       "  </thead>\n",
       "  <tbody>\n",
       "    <tr>\n",
       "      <th>0</th>\n",
       "      <td>8901</td>\n",
       "      <td>0</td>\n",
       "      <td>3712</td>\n",
       "      <td>60.0</td>\n",
       "      <td>NaN</td>\n",
       "      <td>NaN</td>\n",
       "      <td>NaN</td>\n",
       "      <td>0</td>\n",
       "      <td>NaN</td>\n",
       "      <td>NaN</td>\n",
       "      <td>...</td>\n",
       "      <td>8911</td>\n",
       "      <td>9003.0</td>\n",
       "      <td>4.0</td>\n",
       "      <td>7.741935</td>\n",
       "      <td>95515</td>\n",
       "      <td>0</td>\n",
       "      <td>0.0</td>\n",
       "      <td>0</td>\n",
       "      <td>4</td>\n",
       "      <td>39.0</td>\n",
       "    </tr>\n",
       "    <tr>\n",
       "      <th>1</th>\n",
       "      <td>9401</td>\n",
       "      <td>1</td>\n",
       "      <td>5202</td>\n",
       "      <td>46.0</td>\n",
       "      <td>1.0</td>\n",
       "      <td>6.0</td>\n",
       "      <td>9.0</td>\n",
       "      <td>16</td>\n",
       "      <td>0.0</td>\n",
       "      <td>0.0</td>\n",
       "      <td>...</td>\n",
       "      <td>9310</td>\n",
       "      <td>9504.0</td>\n",
       "      <td>18.0</td>\n",
       "      <td>15.666667</td>\n",
       "      <td>148535</td>\n",
       "      <td>0</td>\n",
       "      <td>0.0</td>\n",
       "      <td>0</td>\n",
       "      <td>2</td>\n",
       "      <td>1.0</td>\n",
       "    </tr>\n",
       "    <tr>\n",
       "      <th>2</th>\n",
       "      <td>9001</td>\n",
       "      <td>1</td>\n",
       "      <td>0</td>\n",
       "      <td>NaN</td>\n",
       "      <td>NaN</td>\n",
       "      <td>3.0</td>\n",
       "      <td>1.0</td>\n",
       "      <td>2</td>\n",
       "      <td>0.0</td>\n",
       "      <td>0.0</td>\n",
       "      <td>...</td>\n",
       "      <td>9001</td>\n",
       "      <td>9101.0</td>\n",
       "      <td>12.0</td>\n",
       "      <td>7.481481</td>\n",
       "      <td>15078</td>\n",
       "      <td>0</td>\n",
       "      <td>0.0</td>\n",
       "      <td>1</td>\n",
       "      <td>4</td>\n",
       "      <td>60.0</td>\n",
       "    </tr>\n",
       "    <tr>\n",
       "      <th>3</th>\n",
       "      <td>8701</td>\n",
       "      <td>0</td>\n",
       "      <td>2801</td>\n",
       "      <td>70.0</td>\n",
       "      <td>NaN</td>\n",
       "      <td>1.0</td>\n",
       "      <td>4.0</td>\n",
       "      <td>2</td>\n",
       "      <td>0.0</td>\n",
       "      <td>0.0</td>\n",
       "      <td>...</td>\n",
       "      <td>8702</td>\n",
       "      <td>8711.0</td>\n",
       "      <td>9.0</td>\n",
       "      <td>6.812500</td>\n",
       "      <td>172556</td>\n",
       "      <td>0</td>\n",
       "      <td>0.0</td>\n",
       "      <td>1</td>\n",
       "      <td>4</td>\n",
       "      <td>41.0</td>\n",
       "    </tr>\n",
       "    <tr>\n",
       "      <th>4</th>\n",
       "      <td>8601</td>\n",
       "      <td>0</td>\n",
       "      <td>2001</td>\n",
       "      <td>78.0</td>\n",
       "      <td>1.0</td>\n",
       "      <td>3.0</td>\n",
       "      <td>2.0</td>\n",
       "      <td>60</td>\n",
       "      <td>1.0</td>\n",
       "      <td>0.0</td>\n",
       "      <td>...</td>\n",
       "      <td>7903</td>\n",
       "      <td>8005.0</td>\n",
       "      <td>14.0</td>\n",
       "      <td>6.864865</td>\n",
       "      <td>7112</td>\n",
       "      <td>0</td>\n",
       "      <td>0.0</td>\n",
       "      <td>1</td>\n",
       "      <td>2</td>\n",
       "      <td>26.0</td>\n",
       "    </tr>\n",
       "  </tbody>\n",
       "</table>\n",
       "<p>5 rows × 407 columns</p>\n",
       "</div>"
      ],
      "text/plain": [
       "   ODATEDW  TCODE   DOB   AGE  NUMCHLD  INCOME  WEALTH1  HIT  MBCRAFT  \\\n",
       "0     8901      0  3712  60.0      NaN     NaN      NaN    0      NaN   \n",
       "1     9401      1  5202  46.0      1.0     6.0      9.0   16      0.0   \n",
       "2     9001      1     0   NaN      NaN     3.0      1.0    2      0.0   \n",
       "3     8701      0  2801  70.0      NaN     1.0      4.0    2      0.0   \n",
       "4     8601      0  2001  78.0      1.0     3.0      2.0   60      1.0   \n",
       "\n",
       "   MBGARDEN  ...  FISTDATE  NEXTDATE  TIMELAG    AVGGIFT  CONTROLN  TARGET_B  \\\n",
       "0       NaN  ...      8911    9003.0      4.0   7.741935     95515         0   \n",
       "1       0.0  ...      9310    9504.0     18.0  15.666667    148535         0   \n",
       "2       0.0  ...      9001    9101.0     12.0   7.481481     15078         0   \n",
       "3       0.0  ...      8702    8711.0      9.0   6.812500    172556         0   \n",
       "4       0.0  ...      7903    8005.0     14.0   6.864865      7112         0   \n",
       "\n",
       "   TARGET_D  HPHONE_D  RFA_2F  CLUSTER2  \n",
       "0       0.0         0       4      39.0  \n",
       "1       0.0         0       2       1.0  \n",
       "2       0.0         1       4      60.0  \n",
       "3       0.0         1       4      41.0  \n",
       "4       0.0         1       2      26.0  \n",
       "\n",
       "[5 rows x 407 columns]"
      ]
     },
     "execution_count": 5,
     "metadata": {},
     "output_type": "execute_result"
    }
   ],
   "source": [
    "numerical=data.select_dtypes(np.number)\n",
    "numerical.head()"
   ]
  },
  {
   "cell_type": "code",
   "execution_count": 6,
   "id": "920921ba",
   "metadata": {},
   "outputs": [
    {
     "data": {
      "text/plain": [
       "(95412, 407)"
      ]
     },
     "execution_count": 6,
     "metadata": {},
     "output_type": "execute_result"
    }
   ],
   "source": [
    "numerical.shape"
   ]
  },
  {
   "cell_type": "code",
   "execution_count": 7,
   "id": "41ed2502",
   "metadata": {
    "scrolled": true
   },
   "outputs": [
    {
     "data": {
      "text/plain": [
       "RDATE_5     95403\n",
       "RAMNT_5     95403\n",
       "RDATE_3     95170\n",
       "RAMNT_3     95170\n",
       "RDATE_4     95131\n",
       "RAMNT_4     95131\n",
       "RAMNT_6     94636\n",
       "RDATE_6     94636\n",
       "RDATE_15    88150\n",
       "RAMNT_15    88150\n",
       "RDATE_23    87553\n",
       "RAMNT_23    87553\n",
       "RAMNT_20    87524\n",
       "RDATE_20    87524\n",
       "RAMNT_7     86517\n",
       "RDATE_7     86517\n",
       "RDATE_17    86011\n",
       "RAMNT_17    86011\n",
       "RAMNT_21    85899\n",
       "RDATE_21    85899\n",
       "RDATE_10    84951\n",
       "RAMNT_10    84951\n",
       "RDATE_13    83162\n",
       "RAMNT_13    83162\n",
       "NUMCHLD     83026\n",
       "RAMNT_11    80672\n",
       "RDATE_11    80672\n",
       "RDATE_19    79535\n",
       "RAMNT_19    79535\n",
       "RDATE_9     78678\n",
       "RAMNT_9     78678\n",
       "RAMNT_24    77674\n",
       "RDATE_24    77674\n",
       "RAMNT_18    75634\n",
       "RDATE_18    75634\n",
       "RDATE_22    74539\n",
       "RAMNT_22    74539\n",
       "RAMNT_8     73940\n",
       "RDATE_8     73940\n",
       "RAMNT_14    72095\n",
       "RDATE_14    72095\n",
       "RAMNT_12    69712\n",
       "RDATE_12    69712\n",
       "RDATE_16    68418\n",
       "RAMNT_16    68418\n",
       "ADATE_15    65477\n",
       "ADATE_23    56270\n",
       "MBCOLECT    52914\n",
       "PUBHLTH     52854\n",
       "PUBDOITY    52854\n",
       "dtype: int64"
      ]
     },
     "execution_count": 7,
     "metadata": {},
     "output_type": "execute_result"
    }
   ],
   "source": [
    "n=numerical.isna().sum()\n",
    "n =n.sort_values(ascending=False).head(50)\n",
    "n"
   ]
  },
  {
   "cell_type": "code",
   "execution_count": 8,
   "id": "09306824",
   "metadata": {},
   "outputs": [
    {
     "data": {
      "text/plain": [
       "91"
      ]
     },
     "execution_count": 8,
     "metadata": {},
     "output_type": "execute_result"
    }
   ],
   "source": [
    "numerical_nulls = numerical.columns[numerical.isna().sum()>0]\n",
    "len(numerical_nulls) #columns with null values."
   ]
  },
  {
   "cell_type": "code",
   "execution_count": 9,
   "id": "6d842978",
   "metadata": {},
   "outputs": [
    {
     "data": {
      "text/html": [
       "<div>\n",
       "<style scoped>\n",
       "    .dataframe tbody tr th:only-of-type {\n",
       "        vertical-align: middle;\n",
       "    }\n",
       "\n",
       "    .dataframe tbody tr th {\n",
       "        vertical-align: top;\n",
       "    }\n",
       "\n",
       "    .dataframe thead th {\n",
       "        text-align: right;\n",
       "    }\n",
       "</style>\n",
       "<table border=\"1\" class=\"dataframe\">\n",
       "  <thead>\n",
       "    <tr style=\"text-align: right;\">\n",
       "      <th></th>\n",
       "      <th>count</th>\n",
       "    </tr>\n",
       "  </thead>\n",
       "  <tbody>\n",
       "    <tr>\n",
       "      <th>RDATE_5</th>\n",
       "      <td>95403</td>\n",
       "    </tr>\n",
       "    <tr>\n",
       "      <th>RAMNT_5</th>\n",
       "      <td>95403</td>\n",
       "    </tr>\n",
       "    <tr>\n",
       "      <th>RDATE_3</th>\n",
       "      <td>95170</td>\n",
       "    </tr>\n",
       "    <tr>\n",
       "      <th>RAMNT_3</th>\n",
       "      <td>95170</td>\n",
       "    </tr>\n",
       "    <tr>\n",
       "      <th>RDATE_4</th>\n",
       "      <td>95131</td>\n",
       "    </tr>\n",
       "    <tr>\n",
       "      <th>...</th>\n",
       "      <td>...</td>\n",
       "    </tr>\n",
       "    <tr>\n",
       "      <th>HUPA7</th>\n",
       "      <td>0</td>\n",
       "    </tr>\n",
       "    <tr>\n",
       "      <th>HUPA6</th>\n",
       "      <td>0</td>\n",
       "    </tr>\n",
       "    <tr>\n",
       "      <th>HUPA5</th>\n",
       "      <td>0</td>\n",
       "    </tr>\n",
       "    <tr>\n",
       "      <th>HUPA4</th>\n",
       "      <td>0</td>\n",
       "    </tr>\n",
       "    <tr>\n",
       "      <th>LFC6</th>\n",
       "      <td>0</td>\n",
       "    </tr>\n",
       "  </tbody>\n",
       "</table>\n",
       "<p>407 rows × 1 columns</p>\n",
       "</div>"
      ],
      "text/plain": [
       "         count\n",
       "RDATE_5  95403\n",
       "RAMNT_5  95403\n",
       "RDATE_3  95170\n",
       "RAMNT_3  95170\n",
       "RDATE_4  95131\n",
       "...        ...\n",
       "HUPA7        0\n",
       "HUPA6        0\n",
       "HUPA5        0\n",
       "HUPA4        0\n",
       "LFC6         0\n",
       "\n",
       "[407 rows x 1 columns]"
      ]
     },
     "execution_count": 9,
     "metadata": {},
     "output_type": "execute_result"
    }
   ],
   "source": [
    "numerical.isna().sum().to_frame().rename(columns={0:'count'}).sort_values(by='count', ascending=False)"
   ]
  },
  {
   "cell_type": "code",
   "execution_count": 10,
   "id": "2e0e113a",
   "metadata": {
    "scrolled": false
   },
   "outputs": [
    {
     "data": {
      "text/html": [
       "<div>\n",
       "<style scoped>\n",
       "    .dataframe tbody tr th:only-of-type {\n",
       "        vertical-align: middle;\n",
       "    }\n",
       "\n",
       "    .dataframe tbody tr th {\n",
       "        vertical-align: top;\n",
       "    }\n",
       "\n",
       "    .dataframe thead th {\n",
       "        text-align: right;\n",
       "    }\n",
       "</style>\n",
       "<table border=\"1\" class=\"dataframe\">\n",
       "  <thead>\n",
       "    <tr style=\"text-align: right;\">\n",
       "      <th></th>\n",
       "      <th>percentage</th>\n",
       "    </tr>\n",
       "  </thead>\n",
       "  <tbody>\n",
       "    <tr>\n",
       "      <th>RDATE_5</th>\n",
       "      <td>99.990567</td>\n",
       "    </tr>\n",
       "    <tr>\n",
       "      <th>RAMNT_5</th>\n",
       "      <td>99.990567</td>\n",
       "    </tr>\n",
       "    <tr>\n",
       "      <th>RDATE_3</th>\n",
       "      <td>99.746363</td>\n",
       "    </tr>\n",
       "    <tr>\n",
       "      <th>RAMNT_3</th>\n",
       "      <td>99.746363</td>\n",
       "    </tr>\n",
       "    <tr>\n",
       "      <th>RDATE_4</th>\n",
       "      <td>99.705488</td>\n",
       "    </tr>\n",
       "    <tr>\n",
       "      <th>RAMNT_4</th>\n",
       "      <td>99.705488</td>\n",
       "    </tr>\n",
       "    <tr>\n",
       "      <th>RAMNT_6</th>\n",
       "      <td>99.186685</td>\n",
       "    </tr>\n",
       "    <tr>\n",
       "      <th>RDATE_6</th>\n",
       "      <td>99.186685</td>\n",
       "    </tr>\n",
       "    <tr>\n",
       "      <th>RDATE_15</th>\n",
       "      <td>92.388798</td>\n",
       "    </tr>\n",
       "    <tr>\n",
       "      <th>RAMNT_15</th>\n",
       "      <td>92.388798</td>\n",
       "    </tr>\n",
       "  </tbody>\n",
       "</table>\n",
       "</div>"
      ],
      "text/plain": [
       "          percentage\n",
       "RDATE_5    99.990567\n",
       "RAMNT_5    99.990567\n",
       "RDATE_3    99.746363\n",
       "RAMNT_3    99.746363\n",
       "RDATE_4    99.705488\n",
       "RAMNT_4    99.705488\n",
       "RAMNT_6    99.186685\n",
       "RDATE_6    99.186685\n",
       "RDATE_15   92.388798\n",
       "RAMNT_15   92.388798"
      ]
     },
     "execution_count": 10,
     "metadata": {},
     "output_type": "execute_result"
    }
   ],
   "source": [
    "nulls_numerical = pd.DataFrame(numerical.isna().sum()*100/len(numerical), columns=['percentage'])\n",
    "nulls_numerical.sort_values('percentage', ascending = False).head(10)\n",
    "\n",
    "#Many collumns with 99% of missing values, perhaps we could remove them??"
   ]
  },
  {
   "cell_type": "markdown",
   "id": "83f86d32",
   "metadata": {},
   "source": [
    "#### 2. Use appropriate methods to clean the columns GEOCODE2, WEALTH1, ADI, DMA,and MSA."
   ]
  },
  {
   "cell_type": "markdown",
   "id": "2badd8e0",
   "metadata": {},
   "source": [
    "#### GEOCODE2"
   ]
  },
  {
   "cell_type": "code",
   "execution_count": 11,
   "id": "629af2c5",
   "metadata": {
    "scrolled": false
   },
   "outputs": [
    {
     "data": {
      "text/plain": [
       "A    34484\n",
       "B    28505\n",
       "D    16580\n",
       "C    15524\n",
       "       187\n",
       "Name: GEOCODE2, dtype: int64"
      ]
     },
     "execution_count": 11,
     "metadata": {},
     "output_type": "execute_result"
    }
   ],
   "source": [
    "data.GEOCODE2.value_counts()"
   ]
  },
  {
   "cell_type": "code",
   "execution_count": 12,
   "id": "cb59966d",
   "metadata": {},
   "outputs": [
    {
     "data": {
      "text/plain": [
       "132"
      ]
     },
     "execution_count": 12,
     "metadata": {},
     "output_type": "execute_result"
    }
   ],
   "source": [
    "data.GEOCODE2.isna().sum()"
   ]
  },
  {
   "cell_type": "code",
   "execution_count": 13,
   "id": "cf87483a",
   "metadata": {},
   "outputs": [],
   "source": [
    "# Only 187 rows with empty values, let's remove them.\n",
    "\n",
    "data = data[~data['GEOCODE2'].isin([' '])] #(take \"GEOCODE2\" column without ' ' values)\n",
    "#data['GEOCODE2'].replace([\" \"], np.NaN)\n",
    "#data['GEOCODE2'] = data['GEOCODE2'].apply(lambda x: x.replace(\" \", np.NaN))"
   ]
  },
  {
   "cell_type": "code",
   "execution_count": 14,
   "id": "bed1f59b",
   "metadata": {
    "scrolled": false
   },
   "outputs": [
    {
     "data": {
      "text/plain": [
       "(95093, 481)"
      ]
     },
     "execution_count": 14,
     "metadata": {},
     "output_type": "execute_result"
    }
   ],
   "source": [
    "data.dropna(subset = ['GEOCODE2'], inplace=True)\n",
    "# 132 rows are nulls, so I am going to drop the rows with null values. \n",
    "data.shape"
   ]
  },
  {
   "cell_type": "code",
   "execution_count": null,
   "id": "5ab7ff0d",
   "metadata": {},
   "outputs": [],
   "source": [
    "data.GEOCODE2.isna().sum()"
   ]
  },
  {
   "cell_type": "code",
   "execution_count": null,
   "id": "35120e1e",
   "metadata": {
    "scrolled": false
   },
   "outputs": [],
   "source": [
    "#In total we lost 318 rows which is 0.3% of our total rows."
   ]
  },
  {
   "cell_type": "markdown",
   "id": "e4288e42",
   "metadata": {},
   "source": [
    "#### WEALTH1\n",
    "\n",
    "Wealth Rating: uses median family income and population statistics from each area to index relative wealth within each state The segments are denoted 0-9, with 9 being the highest income group and zero being the lowest. Each rating has a different meaning within each state.\n"
   ]
  },
  {
   "cell_type": "code",
   "execution_count": 15,
   "id": "d1c32bb6",
   "metadata": {},
   "outputs": [
    {
     "data": {
      "text/plain": [
       "<AxesSubplot:xlabel='WEALTH1', ylabel='Density'>"
      ]
     },
     "execution_count": 15,
     "metadata": {},
     "output_type": "execute_result"
    },
    {
     "data": {
      "image/png": "[encoded data removed]",
      "text/plain": [
       "<Figure size 640x480 with 1 Axes>"
      ]
     },
     "metadata": {},
     "output_type": "display_data"
    }
   ],
   "source": [
    "sns.distplot(numerical.WEALTH1)"
   ]
  },
  {
   "cell_type": "code",
   "execution_count": 16,
   "id": "9253d557",
   "metadata": {},
   "outputs": [
    {
     "data": {
      "text/plain": [
       "9.0    7585\n",
       "8.0    6793\n",
       "7.0    6198\n",
       "6.0    5825\n",
       "5.0    5280\n",
       "4.0    4810\n",
       "3.0    4237\n",
       "2.0    4085\n",
       "1.0    3454\n",
       "0.0    2413\n",
       "Name: WEALTH1, dtype: int64"
      ]
     },
     "execution_count": 16,
     "metadata": {},
     "output_type": "execute_result"
    }
   ],
   "source": [
    "numerical.WEALTH1.value_counts()"
   ]
  },
  {
   "cell_type": "code",
   "execution_count": 17,
   "id": "45dae1cf",
   "metadata": {
    "scrolled": true
   },
   "outputs": [
    {
     "data": {
      "text/plain": [
       "44732"
      ]
     },
     "execution_count": 17,
     "metadata": {},
     "output_type": "execute_result"
    }
   ],
   "source": [
    "numerical.WEALTH1.isna().sum()\n",
    "\n",
    "#44732 rows with NULL values, a lot to remove."
   ]
  },
  {
   "cell_type": "markdown",
   "id": "0c947de4",
   "metadata": {},
   "source": [
    "#### Using Linear Regression to replace the missing data in \"WEALTH1\" with the values predicted."
   ]
  },
  {
   "cell_type": "code",
   "execution_count": 23,
   "id": "7fd4ebcb",
   "metadata": {
    "scrolled": true
   },
   "outputs": [
    {
     "data": {
      "text/html": [
       "<div>\n",
       "<style scoped>\n",
       "    .dataframe tbody tr th:only-of-type {\n",
       "        vertical-align: middle;\n",
       "    }\n",
       "\n",
       "    .dataframe tbody tr th {\n",
       "        vertical-align: top;\n",
       "    }\n",
       "\n",
       "    .dataframe thead th {\n",
       "        text-align: right;\n",
       "    }\n",
       "</style>\n",
       "<table border=\"1\" class=\"dataframe\">\n",
       "  <thead>\n",
       "    <tr style=\"text-align: right;\">\n",
       "      <th></th>\n",
       "      <th>column_name</th>\n",
       "      <th>nulls_percentage</th>\n",
       "    </tr>\n",
       "  </thead>\n",
       "  <tbody>\n",
       "    <tr>\n",
       "      <th>346</th>\n",
       "      <td>RDATE_5</td>\n",
       "      <td>99.990567</td>\n",
       "    </tr>\n",
       "    <tr>\n",
       "      <th>368</th>\n",
       "      <td>RAMNT_5</td>\n",
       "      <td>99.990567</td>\n",
       "    </tr>\n",
       "    <tr>\n",
       "      <th>344</th>\n",
       "      <td>RDATE_3</td>\n",
       "      <td>99.746363</td>\n",
       "    </tr>\n",
       "    <tr>\n",
       "      <th>366</th>\n",
       "      <td>RAMNT_3</td>\n",
       "      <td>99.746363</td>\n",
       "    </tr>\n",
       "    <tr>\n",
       "      <th>345</th>\n",
       "      <td>RDATE_4</td>\n",
       "      <td>99.705488</td>\n",
       "    </tr>\n",
       "    <tr>\n",
       "      <th>367</th>\n",
       "      <td>RAMNT_4</td>\n",
       "      <td>99.705488</td>\n",
       "    </tr>\n",
       "    <tr>\n",
       "      <th>369</th>\n",
       "      <td>RAMNT_6</td>\n",
       "      <td>99.186685</td>\n",
       "    </tr>\n",
       "    <tr>\n",
       "      <th>347</th>\n",
       "      <td>RDATE_6</td>\n",
       "      <td>99.186685</td>\n",
       "    </tr>\n",
       "    <tr>\n",
       "      <th>356</th>\n",
       "      <td>RDATE_15</td>\n",
       "      <td>92.388798</td>\n",
       "    </tr>\n",
       "    <tr>\n",
       "      <th>378</th>\n",
       "      <td>RAMNT_15</td>\n",
       "      <td>92.388798</td>\n",
       "    </tr>\n",
       "  </tbody>\n",
       "</table>\n",
       "</div>"
      ],
      "text/plain": [
       "    column_name  nulls_percentage\n",
       "346     RDATE_5         99.990567\n",
       "368     RAMNT_5         99.990567\n",
       "344     RDATE_3         99.746363\n",
       "366     RAMNT_3         99.746363\n",
       "345     RDATE_4         99.705488\n",
       "367     RAMNT_4         99.705488\n",
       "369     RAMNT_6         99.186685\n",
       "347     RDATE_6         99.186685\n",
       "356    RDATE_15         92.388798\n",
       "378    RAMNT_15         92.388798"
      ]
     },
     "execution_count": 23,
     "metadata": {},
     "output_type": "execute_result"
    }
   ],
   "source": [
    "# Let's remove the columns with NULLS we are going to use to PREDICT our null values in \"WEALTH1\" column\n",
    "# Linear and Logistic Regression Models can't handle any nulls.\n",
    "\n",
    "nulls_percent = pd.DataFrame(numerical.isna().sum()*100/len(numerical)).reset_index() \n",
    "nulls_percent.columns = ['column_name', 'nulls_percentage']\n",
    "nulls_percent.sort_values('nulls_percentage', ascending = False).head(10)"
   ]
  },
  {
   "cell_type": "code",
   "execution_count": 24,
   "id": "0f898062",
   "metadata": {},
   "outputs": [],
   "source": [
    "columns_above_threshold = nulls_percent[nulls_percent['nulls_percentage']>0.0]  #all columns with null values\n",
    "columns_above_threshold.sort_values('nulls_percentage')\n",
    "drop_columns_list = list(columns_above_threshold['column_name'])\n",
    "drop_columns_list.remove(\"WEALTH1\")"
   ]
  },
  {
   "cell_type": "code",
   "execution_count": 25,
   "id": "553a34bc",
   "metadata": {},
   "outputs": [
    {
     "data": {
      "text/plain": [
       "90"
      ]
     },
     "execution_count": 25,
     "metadata": {},
     "output_type": "execute_result"
    }
   ],
   "source": [
    "len(drop_columns_list) #90 COLUMNS with nulls"
   ]
  },
  {
   "cell_type": "code",
   "execution_count": 21,
   "id": "ae2af7d7",
   "metadata": {
    "scrolled": false
   },
   "outputs": [
    {
     "data": {
      "text/plain": [
       "(95412, 317)"
      ]
     },
     "execution_count": 21,
     "metadata": {},
     "output_type": "execute_result"
    }
   ],
   "source": [
    "#Drop them\n",
    "\n",
    "numerical_linreg = numerical.drop(columns=drop_columns_list)\n",
    "numerical_linreg.shape"
   ]
  },
  {
   "cell_type": "code",
   "execution_count": 27,
   "id": "de6bbf37",
   "metadata": {},
   "outputs": [],
   "source": [
    "X_train=numerical_linreg[~numerical_linreg.WEALTH1.isnull()]   #Selecting Data without NUlls. \n",
    "# Selecting all rows of numerical df where WEALTH1 is not null."
   ]
  },
  {
   "cell_type": "code",
   "execution_count": 28,
   "id": "29bf8b89",
   "metadata": {},
   "outputs": [],
   "source": [
    "X_train=X_train.drop(['WEALTH1'], axis=1)  # Remove target from X_train\n"
   ]
  },
  {
   "cell_type": "code",
   "execution_count": 29,
   "id": "fd757066",
   "metadata": {},
   "outputs": [
    {
     "data": {
      "text/plain": [
       "(50680, 1)"
      ]
     },
     "execution_count": 29,
     "metadata": {},
     "output_type": "execute_result"
    }
   ],
   "source": [
    "y_train=numerical_linreg[~numerical_linreg.WEALTH1.isnull()][['WEALTH1']] #Selecting rows from our target,WEALTH1 column, that are not null,to train the model.\n",
    "y_train.shape"
   ]
  },
  {
   "cell_type": "code",
   "execution_count": 30,
   "id": "1447964a",
   "metadata": {},
   "outputs": [],
   "source": [
    "#Selecting all rows of numerical df where \"WEALTH1\" is null, to make our predictions.\n",
    "# We don't have y_test because everything is null.\n",
    "\n",
    "X_test = numerical_linreg[numerical_linreg.WEALTH1.isnull()]    "
   ]
  },
  {
   "cell_type": "code",
   "execution_count": 31,
   "id": "4c5a0576",
   "metadata": {},
   "outputs": [],
   "source": [
    "X_test=X_test.drop(['WEALTH1'], axis=1)   #Dropping target."
   ]
  },
  {
   "cell_type": "code",
   "execution_count": 32,
   "id": "442ff619",
   "metadata": {
    "scrolled": true
   },
   "outputs": [
    {
     "data": {
      "text/plain": [
       "(44732, 316)"
      ]
     },
     "execution_count": 32,
     "metadata": {},
     "output_type": "execute_result"
    }
   ],
   "source": [
    "X_test.shape"
   ]
  },
  {
   "cell_type": "code",
   "execution_count": 33,
   "id": "327a854e",
   "metadata": {},
   "outputs": [],
   "source": [
    "from sklearn.linear_model import LinearRegression\n",
    "model=LinearRegression()"
   ]
  },
  {
   "cell_type": "code",
   "execution_count": 34,
   "id": "a777b880",
   "metadata": {},
   "outputs": [],
   "source": [
    "model=LinearRegression().fit(X_train, y_train)"
   ]
  },
  {
   "cell_type": "code",
   "execution_count": 35,
   "id": "0637ef7c",
   "metadata": {},
   "outputs": [
    {
     "data": {
      "text/plain": [
       "array([[4.23758423],\n",
       "       [7.15892252],\n",
       "       [5.00569003],\n",
       "       ...,\n",
       "       [6.284458  ],\n",
       "       [2.66948672],\n",
       "       [7.2322402 ]])"
      ]
     },
     "execution_count": 35,
     "metadata": {},
     "output_type": "execute_result"
    }
   ],
   "source": [
    "wealth1_pred_linreg = model.predict(X_test) \n",
    "wealth1_pred_linreg"
   ]
  },
  {
   "cell_type": "code",
   "execution_count": 36,
   "id": "51513dcb",
   "metadata": {},
   "outputs": [
    {
     "name": "stdout",
     "output_type": "stream",
     "text": [
      "length of predictions: 44732\n"
     ]
    }
   ],
   "source": [
    "wealth1_pred_linreg= np.round(wealth1_pred_linreg)\n",
    "print(\"length of predictions:\", len(wealth1_pred_linreg))"
   ]
  },
  {
   "cell_type": "code",
   "execution_count": null,
   "id": "80ccffe9",
   "metadata": {},
   "outputs": [],
   "source": [
    "#list(numerical.columns)"
   ]
  },
  {
   "cell_type": "code",
   "execution_count": null,
   "id": "dcfebf62",
   "metadata": {},
   "outputs": [],
   "source": [
    "#col=list(numerical.columns).index('WEALTH1')\n",
    "#col  #index3"
   ]
  },
  {
   "cell_type": "code",
   "execution_count": 37,
   "id": "11d8d21d",
   "metadata": {},
   "outputs": [],
   "source": [
    "#assigning the predictions to the rows where data is null\n",
    "\n",
    "numerical_linreg.loc[numerical_linreg.WEALTH1.isnull(),'WEALTH1']=wealth1_pred_linreg"
   ]
  },
  {
   "cell_type": "code",
   "execution_count": 38,
   "id": "0c655a12",
   "metadata": {},
   "outputs": [
    {
     "data": {
      "text/plain": [
       "0"
      ]
     },
     "execution_count": 38,
     "metadata": {},
     "output_type": "execute_result"
    }
   ],
   "source": [
    "numerical_linreg.WEALTH1.isna().sum()"
   ]
  },
  {
   "cell_type": "code",
   "execution_count": 39,
   "id": "ec9ea610",
   "metadata": {},
   "outputs": [
    {
     "data": {
      "text/plain": [
       " 5.0     11952\n",
       " 6.0     11742\n",
       " 4.0     11481\n",
       " 7.0     11236\n",
       " 8.0     10778\n",
       " 3.0     10707\n",
       " 9.0      9584\n",
       " 2.0      8485\n",
       " 1.0      5557\n",
       " 0.0      3218\n",
       " 10.0      326\n",
       "-1.0       205\n",
       "-2.0        51\n",
       " 11.0       51\n",
       " 12.0       19\n",
       "-3.0         7\n",
       "-4.0         5\n",
       " 14.0        4\n",
       " 13.0        3\n",
       " 15.0        1\n",
       "Name: WEALTH1, dtype: int64"
      ]
     },
     "execution_count": 39,
     "metadata": {},
     "output_type": "execute_result"
    }
   ],
   "source": [
    "numerical_linreg.WEALTH1.value_counts()"
   ]
  },
  {
   "cell_type": "code",
   "execution_count": 40,
   "id": "6be2a844",
   "metadata": {
    "scrolled": true
   },
   "outputs": [
    {
     "data": {
      "text/plain": [
       "<AxesSubplot:xlabel='WEALTH1', ylabel='Density'>"
      ]
     },
     "execution_count": 40,
     "metadata": {},
     "output_type": "execute_result"
    },
    {
     "data": {
      "image/png": "[encoded data removed]",
      "text/plain": [
       "<Figure size 640x480 with 1 Axes>"
      ]
     },
     "metadata": {},
     "output_type": "display_data"
    }
   ],
   "source": [
    "sns.distplot(numerical_linreg.WEALTH1)"
   ]
  },
  {
   "cell_type": "markdown",
   "id": "47cad260",
   "metadata": {},
   "source": [
    "#### Using Logistic Regression to replace the missing data in \"WEALTH1\" with the values predicted."
   ]
  },
  {
   "cell_type": "code",
   "execution_count": 41,
   "id": "f754f3ce",
   "metadata": {},
   "outputs": [],
   "source": [
    "# let's try Logistic Regression, since WEALTH1 Column is a rating between 0-9 therefore is discrete numerical which is ordinal.\n",
    "\n",
    "from sklearn.linear_model import LogisticRegression\n",
    "\n",
    "lr=LogisticRegression()"
   ]
  },
  {
   "cell_type": "code",
   "execution_count": 42,
   "id": "1af9b419",
   "metadata": {},
   "outputs": [
    {
     "data": {
      "text/plain": [
       "(95412, 317)"
      ]
     },
     "execution_count": 42,
     "metadata": {},
     "output_type": "execute_result"
    }
   ],
   "source": [
    "#Drop columns with null values since logistic regression cant handle null values\n",
    "\n",
    "logreg = numerical.drop(columns=drop_columns_list)\n",
    "logreg.shape"
   ]
  },
  {
   "cell_type": "code",
   "execution_count": 43,
   "id": "ad101a54",
   "metadata": {},
   "outputs": [],
   "source": [
    "X_train=logreg[~logreg.WEALTH1.isnull()]   #Selecting Data without NUlls. \n",
    "# Selecting all rows of numerical df where WEALTH1 is not null."
   ]
  },
  {
   "cell_type": "code",
   "execution_count": 44,
   "id": "72500a02",
   "metadata": {},
   "outputs": [],
   "source": [
    "X_train=X_train.drop(['WEALTH1'], axis=1)  # Remove target from X_train\n"
   ]
  },
  {
   "cell_type": "code",
   "execution_count": null,
   "id": "79fa1495",
   "metadata": {},
   "outputs": [],
   "source": [
    "y_train=logreg[~logreg.WEALTH1.isnull()][['WEALTH1']] #Selecting rows from our target,WEALTH1 column, that are not null,to train the model.\n",
    "y_train.shape"
   ]
  },
  {
   "cell_type": "code",
   "execution_count": null,
   "id": "6deef61e",
   "metadata": {},
   "outputs": [],
   "source": [
    "X_test = logreg[logreg.WEALTH1.isnull()]    \n",
    "#Selecting all rows of numerical df where \"WEALTH1\" is null, to make our predictions.\n",
    "# We don't have y_test because everything is null."
   ]
  },
  {
   "cell_type": "code",
   "execution_count": null,
   "id": "f9981883",
   "metadata": {},
   "outputs": [],
   "source": [
    "X_test=X_test.drop(['WEALTH1'], axis=1)   #Dropping target.\n",
    "X_test.shape"
   ]
  },
  {
   "cell_type": "code",
   "execution_count": 45,
   "id": "8e141544",
   "metadata": {},
   "outputs": [],
   "source": [
    "classification = LogisticRegression(random_state=0, multi_class='multinomial').fit(X_train, y_train)"
   ]
  },
  {
   "cell_type": "code",
   "execution_count": 46,
   "id": "1c0e1238",
   "metadata": {},
   "outputs": [],
   "source": [
    "# We predict on the testing dataset\n",
    "predictions = classification.predict(X_test)"
   ]
  },
  {
   "cell_type": "code",
   "execution_count": 47,
   "id": "ec83b51c",
   "metadata": {
    "scrolled": true
   },
   "outputs": [
    {
     "data": {
      "text/plain": [
       "2.0    9107\n",
       "9.0    6156\n",
       "8.0    6003\n",
       "4.0    5766\n",
       "7.0    4475\n",
       "1.0    4228\n",
       "6.0    3914\n",
       "0.0    2572\n",
       "5.0    1878\n",
       "3.0     633\n",
       "dtype: int64"
      ]
     },
     "execution_count": 47,
     "metadata": {},
     "output_type": "execute_result"
    }
   ],
   "source": [
    "pd.Series(predictions).value_counts() "
   ]
  },
  {
   "cell_type": "code",
   "execution_count": null,
   "id": "28b0c6d0",
   "metadata": {},
   "outputs": [],
   "source": [
    "#assigning the predictions to the rows where data is null\n",
    "\n",
    "logreg.loc[logreg.WEALTH1.isna(),'WEALTH1']=predictions"
   ]
  },
  {
   "cell_type": "code",
   "execution_count": 51,
   "id": "60e75c09",
   "metadata": {},
   "outputs": [
    {
     "data": {
      "text/plain": [
       "0"
      ]
     },
     "execution_count": 51,
     "metadata": {},
     "output_type": "execute_result"
    }
   ],
   "source": [
    "logreg.WEALTH1.isna().sum()"
   ]
  },
  {
   "cell_type": "code",
   "execution_count": 52,
   "id": "5a4203ef",
   "metadata": {},
   "outputs": [
    {
     "data": {
      "text/plain": [
       "9.0    13741\n",
       "2.0    13192\n",
       "8.0    12796\n",
       "7.0    10673\n",
       "4.0    10576\n",
       "6.0     9739\n",
       "1.0     7682\n",
       "5.0     7158\n",
       "0.0     4985\n",
       "3.0     4870\n",
       "Name: WEALTH1, dtype: int64"
      ]
     },
     "execution_count": 52,
     "metadata": {},
     "output_type": "execute_result"
    }
   ],
   "source": [
    "logreg.WEALTH1.value_counts()"
   ]
  },
  {
   "cell_type": "code",
   "execution_count": 53,
   "id": "76cde6a1",
   "metadata": {
    "scrolled": true
   },
   "outputs": [
    {
     "data": {
      "text/plain": [
       "<AxesSubplot:xlabel='WEALTH1', ylabel='Density'>"
      ]
     },
     "execution_count": 53,
     "metadata": {},
     "output_type": "execute_result"
    },
    {
     "data": {
      "image/png": "[encoded data removed]",
      "text/plain": [
       "<Figure size 640x480 with 1 Axes>"
      ]
     },
     "metadata": {},
     "output_type": "display_data"
    }
   ],
   "source": [
    "sns.distplot(logreg.WEALTH1)"
   ]
  },
  {
   "cell_type": "code",
   "execution_count": 54,
   "id": "bce496e2",
   "metadata": {},
   "outputs": [],
   "source": [
    "#replace the values of WEALTH1 column from logreg dataframe in the original DATA dataframe.\n",
    "\n",
    "data.WEALTH1 = logreg.WEALTH1"
   ]
  },
  {
   "cell_type": "code",
   "execution_count": 55,
   "id": "614e1996",
   "metadata": {},
   "outputs": [
    {
     "data": {
      "text/plain": [
       "0"
      ]
     },
     "execution_count": 55,
     "metadata": {},
     "output_type": "execute_result"
    }
   ],
   "source": [
    "data.WEALTH1.isna().sum()"
   ]
  },
  {
   "cell_type": "code",
   "execution_count": 56,
   "id": "ba037d92",
   "metadata": {},
   "outputs": [
    {
     "data": {
      "text/plain": [
       "9.0    13729\n",
       "2.0    13174\n",
       "8.0    12775\n",
       "7.0    10659\n",
       "4.0    10565\n",
       "6.0     9723\n",
       "1.0     7677\n",
       "5.0     7150\n",
       "3.0     4863\n",
       "0.0     4778\n",
       "Name: WEALTH1, dtype: int64"
      ]
     },
     "execution_count": 56,
     "metadata": {},
     "output_type": "execute_result"
    }
   ],
   "source": [
    "data.WEALTH1.value_counts()"
   ]
  },
  {
   "cell_type": "markdown",
   "id": "768b0c33",
   "metadata": {},
   "source": [
    "#### ADI\n",
    "ADI CODE - An Area of Dominant Influence (ADI) is the geographic area or market reached by a certain radio, television station, newspaper. \n",
    "\n",
    "Certain media organizations are associated with a Designated Market Area (DMA) or a Metropolitan Statistical Area (MSA) to identify them by local area. "
   ]
  },
  {
   "cell_type": "code",
   "execution_count": 57,
   "id": "d66127b9",
   "metadata": {},
   "outputs": [
    {
     "data": {
      "text/plain": [
       "array([177.,  13., 281.,  67., 127., 185.,  91., 251., 391., 181., 269.,\n",
       "        83., 107., 249., 291.,  57., 227., 329., 351.,  55., 133.,  51.,\n",
       "        73., 159., 201.,  75., 233., 591., 203., 175.,  59., 105., 111.,\n",
       "       173., 415., 323., 187.,  65., 412., 109., 425., 405., 197., 279.,\n",
       "       645., 207.,  89., 361., 209., 213.,  15.,  21., 113., 131., 469.,\n",
       "       199., 129., 441., 459., 235., 301.,  39., 429., 285., 245., 335.,\n",
       "       393., 577., 439., 455., 383., 263.,   0., 427., 307., 275., 119.,\n",
       "       229., 273., 325., 371., 377., 315., 342., 421., 219.,  61.,  93.,\n",
       "       375., 283., 381., 243., 353., 613., 339., 367., 417., 299., 271.,\n",
       "       157.,  77., 327.,  53.,  87., 451., 627.,  71., 253., 363., 403.,\n",
       "       115., 389.,  63., 321., 448., 237., 217., 241., 123., 221., 165.,\n",
       "       277.,  85., 319., 247.,  69., 379.,  95.,  17., 625., 462., 303.,\n",
       "       179., 331., 231., 337., 257., 409., 457., 359., 373., 413., 215.,\n",
       "       205., 313., 211., 305., 355., 419., 473., 423., 121., 433., 431.,\n",
       "       465., 445.,  19., 467., 255., 437., 117., 449., 195., 435., 621.,\n",
       "       295.,  11., 183., 265., 317.,   9.,   3., 151., 471., 293., 297.,\n",
       "       603., 385.,  33., 261.,  25., 443.,  29., 357., 135.,  35., 143.,\n",
       "       153., 149.,  47., 140.,  43., 141., 287., 345., 103.,  45., 139.,\n",
       "       651.,  31., 601., 145., 161., 147.])"
      ]
     },
     "execution_count": 57,
     "metadata": {},
     "output_type": "execute_result"
    }
   ],
   "source": [
    "data.ADI.unique()"
   ]
  },
  {
   "cell_type": "code",
   "execution_count": 58,
   "id": "96bf6591",
   "metadata": {},
   "outputs": [
    {
     "data": {
      "text/plain": [
       "0"
      ]
     },
     "execution_count": 58,
     "metadata": {},
     "output_type": "execute_result"
    }
   ],
   "source": [
    "data.ADI.isna().sum()"
   ]
  },
  {
   "cell_type": "code",
   "execution_count": 59,
   "id": "d7461e87",
   "metadata": {},
   "outputs": [],
   "source": [
    "# Only 132 null values, let's drop them\n",
    "\n",
    "data.dropna(subset = [\"ADI\"], inplace=True)"
   ]
  },
  {
   "cell_type": "code",
   "execution_count": 60,
   "id": "ae754415",
   "metadata": {},
   "outputs": [
    {
     "data": {
      "text/plain": [
       "0"
      ]
     },
     "execution_count": 60,
     "metadata": {},
     "output_type": "execute_result"
    }
   ],
   "source": [
    "data.ADI.isna().sum()"
   ]
  },
  {
   "cell_type": "markdown",
   "id": "47a2f37b",
   "metadata": {},
   "source": [
    "#### DMA \n",
    "A Designated Market Area (often referred to as DMA) is an advertising term that stands for different regions in the United States divided into separate marketing areas."
   ]
  },
  {
   "cell_type": "code",
   "execution_count": 61,
   "id": "50ec868a",
   "metadata": {},
   "outputs": [
    {
     "data": {
      "text/plain": [
       "205"
      ]
     },
     "execution_count": 61,
     "metadata": {},
     "output_type": "execute_result"
    }
   ],
   "source": [
    "data.DMA.nunique()\n",
    "\n",
    "# There are 210 DMAs covering the whole United States and are usually defined based on metropolitan areas, with suburbs often being combined within. "
   ]
  },
  {
   "cell_type": "code",
   "execution_count": 62,
   "id": "5f1c58b5",
   "metadata": {},
   "outputs": [
    {
     "data": {
      "text/plain": [
       "0"
      ]
     },
     "execution_count": 62,
     "metadata": {},
     "output_type": "execute_result"
    }
   ],
   "source": [
    "data.DMA.isna().sum()\n",
    "\n",
    "#No nulls in DMA column."
   ]
  },
  {
   "cell_type": "markdown",
   "id": "979f99cb",
   "metadata": {},
   "source": [
    "#### MSA\n",
    "\n",
    "Metropolitan Statistical Area, as defined by the Office of Management and Budget, is used to designate a United States metropolitan area.\n",
    "\n"
   ]
  },
  {
   "cell_type": "code",
   "execution_count": 63,
   "id": "dfa17b4f",
   "metadata": {},
   "outputs": [
    {
     "data": {
      "text/plain": [
       "298"
      ]
     },
     "execution_count": 63,
     "metadata": {},
     "output_type": "execute_result"
    }
   ],
   "source": [
    "data.MSA.nunique()\n"
   ]
  },
  {
   "cell_type": "code",
   "execution_count": 64,
   "id": "764229c8",
   "metadata": {},
   "outputs": [
    {
     "data": {
      "text/plain": [
       "0"
      ]
     },
     "execution_count": 64,
     "metadata": {},
     "output_type": "execute_result"
    }
   ],
   "source": [
    "data.MSA.isna().sum()\n",
    "#No nulls in MSA column."
   ]
  }
 ],
 "metadata": {
  "kernelspec": {
   "display_name": "Python 3 (ipykernel)",
   "language": "python",
   "name": "python3"
  },
  "language_info": {
   "codemirror_mode": {
    "name": "ipython",
    "version": 3
   },
   "file_extension": ".py",
   "mimetype": "text/x-python",
   "name": "python",
   "nbconvert_exporter": "python",
   "pygments_lexer": "ipython3",
   "version": "3.9.13"
  }
 },
 "nbformat": 4,
 "nbformat_minor": 5
}
